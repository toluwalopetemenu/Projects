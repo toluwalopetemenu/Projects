{
  "nbformat": 4,
  "nbformat_minor": 0,
  "metadata": {
    "colab": {
      "provenance": [],
      "authorship_tag": "ABX9TyMEyWqiQ1/XuUEqk7Ebc3kf",
      "include_colab_link": true
    },
    "kernelspec": {
      "name": "python3",
      "display_name": "Python 3"
    },
    "language_info": {
      "name": "python"
    }
  },
  "cells": [
    {
      "cell_type": "markdown",
      "metadata": {
        "id": "view-in-github",
        "colab_type": "text"
      },
      "source": [
        "<a href=\"https://colab.research.google.com/github/toluwalopetemenu/Projects/blob/main/OOP_Project_.ipynb\" target=\"_parent\"><img src=\"https://colab.research.google.com/assets/colab-badge.svg\" alt=\"Open In Colab\"/></a>"
      ]
    },
    {
      "cell_type": "markdown",
      "source": [
        "Expense Tracker App: A python application for adding income, and expenses, viewing, and updating details like salary and expenses\n",
        "\n"
      ],
      "metadata": {
        "id": "DAC-EEEXvjrR"
      }
    },
    {
      "cell_type": "code",
      "source": [
        "class Trackerapp:                           \n",
        " def __init__(self, name, num):            \n",
        "   self.name = name\n",
        "   self.num = num\n",
        "   self.balance = 0\n",
        "\n",
        " def show_menu(self):  \n",
        "    print(f\"Welcome {self.name}, your Trackerapp no is = {self.num}\")\n",
        "    print(\"1- current_balance \\t 2- salary\")\n",
        "    print(\"3- expenses\")\n",
        "\n",
        "    option = int(input(\"Choose an option: \"))\n",
        "    if option == 1:\n",
        "      self.get_balance()\n",
        "    elif option == 2:\n",
        "      self.salary()\n",
        "    elif option == 3:\n",
        "      self.expenses()\n",
        "    else:\n",
        "      print(\"Invalid Option\")\n",
        "\n",
        " def get_balance(self):\n",
        "    print(self.balance)\n",
        "\n",
        " def salary(self):\n",
        "    amount = float(input(\"Enter the amount you want to add to your financial record: \"))\n",
        "    if amount <= 0:\n",
        "      print(\"Invalid Operation\")\n",
        "    else:\n",
        "      self.balance += amount\n",
        "\n",
        " def expenses(self):\n",
        "     amount = float(input(\"Enter your expenses for today: \"))\n",
        "     if amount < self.balance:\n",
        "        print(f\"You are doing well, Keep it up, your available balance is {self.balance - amount}\")\n",
        "     elif amount >= self.balance:\n",
        "       print(f\"You are overspending, it better be for a good cause, your available balance is {self.balance - amount}\")\n",
        "     else:\n",
        "      self.balance -= amount"
      ],
      "metadata": {
        "id": "4t5tJ5pbvzBj"
      },
      "execution_count": null,
      "outputs": []
    },
    {
      "cell_type": "code",
      "source": [
        "first =Trackerapp(\"Tolu\", 1) #inputing the first record a customer named Tolu\n",
        "first.show_menu()"
      ],
      "metadata": {
        "colab": {
          "base_uri": "https://localhost:8080/"
        },
        "id": "TAJVfCMdfea_",
        "outputId": "afd07afd-67a9-4788-b879-1475097e1341"
      },
      "execution_count": null,
      "outputs": [
        {
          "output_type": "stream",
          "name": "stdout",
          "text": [
            "Welcome Tolu, your Trackerapp no is = 1\n",
            "1- current_balance \t 2- salary\n",
            "3- expenses\n",
            "Choose an option: 1\n",
            "0\n"
          ]
        }
      ]
    },
    {
      "cell_type": "code",
      "source": [
        "first.salary()"
      ],
      "metadata": {
        "colab": {
          "base_uri": "https://localhost:8080/"
        },
        "id": "QhewU0xKSOpf",
        "outputId": "0cf90070-461a-47fa-f8b7-2090c7403b6a"
      },
      "execution_count": null,
      "outputs": [
        {
          "name": "stdout",
          "output_type": "stream",
          "text": [
            "Enter the amount you want to add to your financial record: 1000\n"
          ]
        }
      ]
    },
    {
      "cell_type": "code",
      "source": [
        "first.get_balance()"
      ],
      "metadata": {
        "colab": {
          "base_uri": "https://localhost:8080/"
        },
        "id": "Kq468ctSSdCT",
        "outputId": "4679d8f1-272f-4474-8099-98947d4570b7"
      },
      "execution_count": null,
      "outputs": [
        {
          "output_type": "stream",
          "name": "stdout",
          "text": [
            "1000.0\n"
          ]
        }
      ]
    },
    {
      "cell_type": "code",
      "source": [
        "first.expenses()"
      ],
      "metadata": {
        "colab": {
          "base_uri": "https://localhost:8080/"
        },
        "id": "TDLSVyNrShbj",
        "outputId": "7127036e-3e19-41f6-bbfb-604415bfd18f"
      },
      "execution_count": null,
      "outputs": [
        {
          "output_type": "stream",
          "name": "stdout",
          "text": [
            "Enter your expenses for today: 10001\n",
            "You are overspending, it better be for a good cause, your available balane is -9001.0\n"
          ]
        }
      ]
    }
  ]
}